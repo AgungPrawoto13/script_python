{
 "cells": [
  {
   "cell_type": "code",
   "execution_count": null,
   "metadata": {},
   "outputs": [],
   "source": [
    "pip install mysql"
   ]
  },
  {
   "cell_type": "code",
   "execution_count": null,
   "metadata": {},
   "outputs": [],
   "source": [
    "pip install sqlalchemy"
   ]
  },
  {
   "cell_type": "code",
   "execution_count": 1,
   "metadata": {},
   "outputs": [],
   "source": [
    "import pandas as pd\n",
    "import mysql.connector\n",
    "import sqlalchemy\n",
    "\n",
    "from sqlalchemy import create_engine"
   ]
  },
  {
   "cell_type": "code",
   "execution_count": 2,
   "metadata": {},
   "outputs": [
    {
     "data": {
      "text/html": [
       "<div>\n",
       "<style scoped>\n",
       "    .dataframe tbody tr th:only-of-type {\n",
       "        vertical-align: middle;\n",
       "    }\n",
       "\n",
       "    .dataframe tbody tr th {\n",
       "        vertical-align: top;\n",
       "    }\n",
       "\n",
       "    .dataframe thead th {\n",
       "        text-align: right;\n",
       "    }\n",
       "</style>\n",
       "<table border=\"1\" class=\"dataframe\">\n",
       "  <thead>\n",
       "    <tr style=\"text-align: right;\">\n",
       "      <th></th>\n",
       "      <th>Polling_from</th>\n",
       "      <th>date</th>\n",
       "      <th>paslon</th>\n",
       "      <th>presentase</th>\n",
       "    </tr>\n",
       "  </thead>\n",
       "  <tbody>\n",
       "    <tr>\n",
       "      <th>0</th>\n",
       "      <td>Charta Politika</td>\n",
       "      <td>1-Nov-22</td>\n",
       "      <td>TT/TJ</td>\n",
       "      <td>8.0</td>\n",
       "    </tr>\n",
       "    <tr>\n",
       "      <th>1</th>\n",
       "      <td>Charta Politika</td>\n",
       "      <td>1-Jul-21</td>\n",
       "      <td>TT</td>\n",
       "      <td>NaN</td>\n",
       "    </tr>\n",
       "    <tr>\n",
       "      <th>2</th>\n",
       "      <td>Charta Politika</td>\n",
       "      <td>1-Jun-22</td>\n",
       "      <td>Ganjar Pranowo</td>\n",
       "      <td>36.5</td>\n",
       "    </tr>\n",
       "    <tr>\n",
       "      <th>3</th>\n",
       "      <td>Charta Politika</td>\n",
       "      <td>7-Apr-23</td>\n",
       "      <td>Anies Baswedan</td>\n",
       "      <td>25.2</td>\n",
       "    </tr>\n",
       "    <tr>\n",
       "      <th>4</th>\n",
       "      <td>Charta Politika</td>\n",
       "      <td>1-Jun-22</td>\n",
       "      <td>TT/TJ</td>\n",
       "      <td>11.9</td>\n",
       "    </tr>\n",
       "    <tr>\n",
       "      <th>...</th>\n",
       "      <td>...</td>\n",
       "      <td>...</td>\n",
       "      <td>...</td>\n",
       "      <td>...</td>\n",
       "    </tr>\n",
       "    <tr>\n",
       "      <th>541</th>\n",
       "      <td>SMRC</td>\n",
       "      <td>1-Nov-22</td>\n",
       "      <td>Ganjar Pranowo</td>\n",
       "      <td>31.3</td>\n",
       "    </tr>\n",
       "    <tr>\n",
       "      <th>542</th>\n",
       "      <td>SMRC</td>\n",
       "      <td>1-Jun-22</td>\n",
       "      <td>Prabowo Subianto</td>\n",
       "      <td>25.8</td>\n",
       "    </tr>\n",
       "    <tr>\n",
       "      <th>543</th>\n",
       "      <td>SMRC</td>\n",
       "      <td>1-Jan-22</td>\n",
       "      <td>Anies Baswedan</td>\n",
       "      <td>22.3</td>\n",
       "    </tr>\n",
       "    <tr>\n",
       "      <th>544</th>\n",
       "      <td>SMRC</td>\n",
       "      <td>1-Aug-21</td>\n",
       "      <td>TT/TJ</td>\n",
       "      <td>28.6</td>\n",
       "    </tr>\n",
       "    <tr>\n",
       "      <th>545</th>\n",
       "      <td>SMRC</td>\n",
       "      <td>11-Aug-23</td>\n",
       "      <td>TT</td>\n",
       "      <td>NaN</td>\n",
       "    </tr>\n",
       "  </tbody>\n",
       "</table>\n",
       "<p>546 rows × 4 columns</p>\n",
       "</div>"
      ],
      "text/plain": [
       "        Polling_from       date            paslon  presentase\n",
       "0    Charta Politika   1-Nov-22             TT/TJ         8.0\n",
       "1    Charta Politika   1-Jul-21                TT         NaN\n",
       "2    Charta Politika   1-Jun-22    Ganjar Pranowo        36.5\n",
       "3    Charta Politika   7-Apr-23    Anies Baswedan        25.2\n",
       "4    Charta Politika   1-Jun-22             TT/TJ        11.9\n",
       "..               ...        ...               ...         ...\n",
       "541             SMRC   1-Nov-22    Ganjar Pranowo        31.3\n",
       "542             SMRC   1-Jun-22  Prabowo Subianto        25.8\n",
       "543             SMRC   1-Jan-22    Anies Baswedan        22.3\n",
       "544             SMRC   1-Aug-21             TT/TJ        28.6\n",
       "545             SMRC  11-Aug-23                TT         NaN\n",
       "\n",
       "[546 rows x 4 columns]"
      ]
     },
     "execution_count": 2,
     "metadata": {},
     "output_type": "execute_result"
    }
   ],
   "source": [
    "file = 'survei unpivot.csv'\n",
    "data = pd.read_csv(file, encoding='cp1252')\n",
    "#data = data.drop(['Unnamed: 9','Unnamed: 10'],\"/System Volume Information\" axis=1)\n",
    "data"
   ]
  },
  {
   "cell_type": "code",
   "execution_count": null,
   "metadata": {},
   "outputs": [],
   "source": [
    "engine = create_engine(\"put your credential database here\", echo=True)"
   ]
  },
  {
   "cell_type": "markdown",
   "metadata": {},
   "source": [
    "# UPLOAD MULTI DATA"
   ]
  },
  {
   "cell_type": "code",
   "execution_count": 4,
   "metadata": {},
   "outputs": [
    {
     "name": "stdout",
     "output_type": "stream",
     "text": [
      "2023-10-30 11:38:25,564 INFO sqlalchemy.engine.Engine SELECT DATABASE()\n",
      "2023-10-30 11:38:25,572 INFO sqlalchemy.engine.Engine [raw sql] {}\n",
      "2023-10-30 11:38:25,782 INFO sqlalchemy.engine.Engine SELECT @@sql_mode\n",
      "2023-10-30 11:38:25,783 INFO sqlalchemy.engine.Engine [raw sql] {}\n",
      "2023-10-30 11:38:25,880 INFO sqlalchemy.engine.Engine SELECT @@lower_case_table_names\n",
      "2023-10-30 11:38:25,881 INFO sqlalchemy.engine.Engine [raw sql] {}\n",
      "2023-10-30 11:38:25,948 INFO sqlalchemy.engine.Engine BEGIN (implicit)\n",
      "2023-10-30 11:38:26,027 INFO sqlalchemy.engine.Engine DESCRIBE `db_pol_master`.`06001m_Survei_Tiga_Nama_unpivot`\n",
      "2023-10-30 11:38:26,028 INFO sqlalchemy.engine.Engine [raw sql] {}\n",
      "2023-10-30 11:38:26,122 INFO sqlalchemy.engine.Engine \n",
      "CREATE TABLE `06001m_Survei_Tiga_Nama_unpivot` (\n",
      "\t`Polling_from` TEXT, \n",
      "\tdate TEXT, \n",
      "\tpaslon TEXT, \n",
      "\tpresentase FLOAT(53)\n",
      ")\n",
      "\n",
      "\n",
      "2023-10-30 11:38:26,123 INFO sqlalchemy.engine.Engine [no key 0.05915s] {}\n",
      "2023-10-30 11:38:26,270 INFO sqlalchemy.engine.Engine INSERT INTO `06001m_Survei_Tiga_Nama_unpivot` (`Polling_from`, date, paslon, presentase) VALUES (%(Polling_from)s, %(date)s, %(paslon)s, %(presentase)s)\n",
      "2023-10-30 11:38:26,275 INFO sqlalchemy.engine.Engine [generated in 0.07922s] [{'Polling_from': 'Charta Politika', 'date': '1-Nov-22', 'paslon': 'TT/TJ', 'presentase': 8.0}, {'Polling_from': 'Charta Politika', 'date': '1-Jul-21', 'paslon': 'TT', 'presentase': None}, {'Polling_from': 'Charta Politika', 'date': '1-Jun-22', 'paslon': 'Ganjar Pranowo', 'presentase': 36.5}, {'Polling_from': 'Charta Politika', 'date': '7-Apr-23', 'paslon': 'Anies Baswedan', 'presentase': 25.2}, {'Polling_from': 'Charta Politika', 'date': '1-Jun-22', 'paslon': 'TT/TJ', 'presentase': 11.9}, {'Polling_from': 'Charta Politika', 'date': '7-Apr-23', 'paslon': 'TJ', 'presentase': None}, {'Polling_from': 'Charta Politika', 'date': '1-Dec-21', 'paslon': 'Ganjar Pranowo', 'presentase': 33.5}, {'Polling_from': 'Charta Politika', 'date': '1-Dec-22', 'paslon': 'Anies Baswedan', 'presentase': 29.2}  ... displaying 10 of 546 total bound parameter sets ...  {'Polling_from': 'SMRC', 'date': '1-Aug-21', 'paslon': 'TT/TJ', 'presentase': 28.6}, {'Polling_from': 'SMRC', 'date': '11-Aug-23', 'paslon': 'TT', 'presentase': None}]\n",
      "2023-10-30 11:38:26,494 INFO sqlalchemy.engine.Engine SHOW FULL TABLES FROM `db_pol_master`\n",
      "2023-10-30 11:38:26,495 INFO sqlalchemy.engine.Engine [raw sql] {}\n",
      "2023-10-30 11:38:26,564 INFO sqlalchemy.engine.Engine COMMIT\n"
     ]
    }
   ],
   "source": [
    "file_list = [\n",
    "'survei unpivot.csv'\n",
    "]\n",
    "\n",
    "nama_table = [\n",
    "'06001m_Survei_Tiga_Nama_unpivot'\n",
    "]\n",
    "tes = pd.read_csv(file_list[0])\n",
    "\n",
    "for i in range(0, len(file_list)):\n",
    "    data = pd.read_csv(file_list[i])\n",
    "    df = pd.DataFrame(data)\n",
    "    df.to_sql(nama_table[i], #PENAMAAN TABLE\n",
    "            engine, if_exists='replace', \n",
    "            index=False, \n",
    "            dtype={ #RENAME TYPE DATA \n",
    "                \"id_wilayah\":sqlalchemy.types.NVARCHAR(length=60),\n",
    "                \"period\":sqlalchemy.types.NVARCHAR(length=60),\n",
    "                \"kode_wilayah\":sqlalchemy.types.NVARCHAR(length=60)})"
   ]
  },
  {
   "cell_type": "markdown",
   "metadata": {},
   "source": [
    "# UPLOAD SINGLE DATA"
   ]
  },
  {
   "cell_type": "code",
   "execution_count": 8,
   "metadata": {},
   "outputs": [
    {
     "name": "stdout",
     "output_type": "stream",
     "text": [
      "2023-10-16 14:53:14,891 INFO sqlalchemy.engine.Engine BEGIN (implicit)\n",
      "2023-10-16 14:53:14,954 INFO sqlalchemy.engine.Engine DESCRIBE `db_pol_master`.`0203131_demografi_sensus_2020_umur_migrasi`\n",
      "2023-10-16 14:53:14,955 INFO sqlalchemy.engine.Engine [raw sql] {}\n",
      "2023-10-16 14:53:15,068 INFO sqlalchemy.engine.Engine \n",
      "CREATE TABLE `0203131_demografi_sensus_2020_umur_migrasi` (\n",
      "\t`Unnamed: 0` BIGINT, \n",
      "\tid_wilayah NATIONAL VARCHAR(60), \n",
      "\tkode_wilayah NATIONAL VARCHAR(60), \n",
      "\tnama_wilayah TEXT, \n",
      "\tnama_indikator TEXT, \n",
      "\tnama_kategori_1 TEXT, \n",
      "\tnama_item__kategori_1 TEXT, \n",
      "\tnama_kategori_2 TEXT, \n",
      "\tnama_item__kategori_2 TEXT, \n",
      "\tnama_kategori_3 TEXT, \n",
      "\tnama_item__kategori_3 TEXT, \n",
      "\t`period` NATIONAL VARCHAR(60), \n",
      "\tnilai BIGINT\n",
      ")\n",
      "\n",
      "\n",
      "2023-10-16 14:53:15,069 INFO sqlalchemy.engine.Engine [no key 0.06694s] {}\n",
      "2023-10-16 14:53:15,224 INFO sqlalchemy.engine.Engine INSERT INTO `0203131_demografi_sensus_2020_umur_migrasi` (`Unnamed: 0`, id_wilayah, kode_wilayah, nama_wilayah, nama_indikator, nama_kategori_1, nama_item__kategori_1, nama_kategori_2, nama_item__kategori_2, nama_kategori_3, nama_item__kategori_3, `period`, nilai) VALUES (%(UnnamedC_0)s, %(id_wilayah)s, %(kode_wilayah)s, %(nama_wilayah)s, %(nama_indikator)s, %(nama_kategori_1)s, %(nama_item__kategori_1)s, %(nama_kategori_2)s, %(nama_item__kategori_2)s, %(nama_kategori_3)s, %(nama_item__kategori_3)s, %(period)s, %(nilai)s)\n",
      "2023-10-16 14:53:15,224 INFO sqlalchemy.engine.Engine [generated in 0.10456s] [{'UnnamedC_0': 0, 'id_wilayah': 1708, 'kode_wilayah': 11, 'nama_wilayah': 'ACEH', 'nama_indikator': 'Jumlah Penduduk', 'nama_kategori_1': 'Klasifikasi Kelompok Umur ', 'nama_item__kategori_1': '0-4', 'nama_kategori_2': 'Klasifikasi Migrasi Seumur Hidup', 'nama_item__kategori_2': 'Migran', 'nama_kategori_3': 'Klasifikasi Jenis Kelamin ', 'nama_item__kategori_3': 'Laki-laki', 'period': 2022, 'nilai': 1835}, {'UnnamedC_0': 1, 'id_wilayah': 1708, 'kode_wilayah': 11, 'nama_wilayah': 'ACEH', 'nama_indikator': 'Jumlah Penduduk', 'nama_kategori_1': 'Klasifikasi Kelompok Umur ', 'nama_item__kategori_1': '0-4', 'nama_kategori_2': 'Klasifikasi Migrasi Seumur Hidup', 'nama_item__kategori_2': 'Migran', 'nama_kategori_3': 'Klasifikasi Jenis Kelamin ', 'nama_item__kategori_3': 'Perempuan', 'period': 2022, 'nilai': 1819}, {'UnnamedC_0': 2, 'id_wilayah': 1708, 'kode_wilayah': 11, 'nama_wilayah': 'ACEH', 'nama_indikator': 'Jumlah Penduduk', 'nama_kategori_1': 'Klasifikasi Kelompok Umur ', 'nama_item__kategori_1': '0-4', 'nama_kategori_2': 'Klasifikasi Migrasi Seumur Hidup', 'nama_item__kategori_2': 'Non Migran', 'nama_kategori_3': 'Klasifikasi Jenis Kelamin ', 'nama_item__kategori_3': 'Laki-laki', 'period': 2022, 'nilai': 250040}, {'UnnamedC_0': 3, 'id_wilayah': 1708, 'kode_wilayah': 11, 'nama_wilayah': 'ACEH', 'nama_indikator': 'Jumlah Penduduk', 'nama_kategori_1': 'Klasifikasi Kelompok Umur ', 'nama_item__kategori_1': '0-4', 'nama_kategori_2': 'Klasifikasi Migrasi Seumur Hidup', 'nama_item__kategori_2': 'Non Migran', 'nama_kategori_3': 'Klasifikasi Jenis Kelamin ', 'nama_item__kategori_3': 'Perempuan', 'period': 2022, 'nilai': 238803}, {'UnnamedC_0': 4, 'id_wilayah': 1708, 'kode_wilayah': 11, 'nama_wilayah': 'ACEH', 'nama_indikator': 'Jumlah Penduduk', 'nama_kategori_1': 'Klasifikasi Kelompok Umur ', 'nama_item__kategori_1': '5-9', 'nama_kategori_2': 'Klasifikasi Migrasi Seumur Hidup', 'nama_item__kategori_2': 'Migran', 'nama_kategori_3': 'Klasifikasi Jenis Kelamin ', 'nama_item__kategori_3': 'Laki-laki', 'period': 2022, 'nilai': 3197}, {'UnnamedC_0': 5, 'id_wilayah': 1708, 'kode_wilayah': 11, 'nama_wilayah': 'ACEH', 'nama_indikator': 'Jumlah Penduduk', 'nama_kategori_1': 'Klasifikasi Kelompok Umur ', 'nama_item__kategori_1': '5-9', 'nama_kategori_2': 'Klasifikasi Migrasi Seumur Hidup', 'nama_item__kategori_2': 'Migran', 'nama_kategori_3': 'Klasifikasi Jenis Kelamin ', 'nama_item__kategori_3': 'Perempuan', 'period': 2022, 'nilai': 2941}, {'UnnamedC_0': 6, 'id_wilayah': 1708, 'kode_wilayah': 11, 'nama_wilayah': 'ACEH', 'nama_indikator': 'Jumlah Penduduk', 'nama_kategori_1': 'Klasifikasi Kelompok Umur ', 'nama_item__kategori_1': '5-9', 'nama_kategori_2': 'Klasifikasi Migrasi Seumur Hidup', 'nama_item__kategori_2': 'Non Migran', 'nama_kategori_3': 'Klasifikasi Jenis Kelamin ', 'nama_item__kategori_3': 'Laki-laki', 'period': 2022, 'nilai': 244327}, {'UnnamedC_0': 7, 'id_wilayah': 1708, 'kode_wilayah': 11, 'nama_wilayah': 'ACEH', 'nama_indikator': 'Jumlah Penduduk', 'nama_kategori_1': 'Klasifikasi Kelompok Umur ', 'nama_item__kategori_1': '5-9', 'nama_kategori_2': 'Klasifikasi Migrasi Seumur Hidup', 'nama_item__kategori_2': 'Non Migran', 'nama_kategori_3': 'Klasifikasi Jenis Kelamin ', 'nama_item__kategori_3': 'Perempuan', 'period': 2022, 'nilai': 234469}  ... displaying 10 of 2176 total bound parameter sets ...  {'UnnamedC_0': 2174, 'id_wilayah': 1707, 'kode_wilayah': 94, 'nama_wilayah': 'PAPUA', 'nama_indikator': 'Jumlah Penduduk', 'nama_kategori_1': 'Klasifikasi Kelompok Umur ', 'nama_item__kategori_1': '75+', 'nama_kategori_2': 'Klasifikasi Migrasi Seumur Hidup', 'nama_item__kategori_2': 'Non Migran', 'nama_kategori_3': 'Klasifikasi Jenis Kelamin ', 'nama_item__kategori_3': 'Laki-laki', 'period': 2022, 'nilai': 14876}, {'UnnamedC_0': 2175, 'id_wilayah': 1707, 'kode_wilayah': 94, 'nama_wilayah': 'PAPUA', 'nama_indikator': 'Jumlah Penduduk', 'nama_kategori_1': 'Klasifikasi Kelompok Umur ', 'nama_item__kategori_1': '75+', 'nama_kategori_2': 'Klasifikasi Migrasi Seumur Hidup', 'nama_item__kategori_2': 'Non Migran', 'nama_kategori_3': 'Klasifikasi Jenis Kelamin ', 'nama_item__kategori_3': 'Perempuan', 'period': 2022, 'nilai': 10843}]\n",
      "2023-10-16 14:53:15,657 INFO sqlalchemy.engine.Engine COMMIT\n"
     ]
    },
    {
     "data": {
      "text/plain": [
       "-1"
      ]
     },
     "execution_count": 8,
     "metadata": {},
     "output_type": "execute_result"
    }
   ],
   "source": [
    "data.to_sql(\"0203131_demografi_sensus_2020_umur_migrasi\", \n",
    "            engine, if_exists='replace', \n",
    "            index=False, dtype={\n",
    "                        \"id_wilayah\":sqlalchemy.types.NVARCHAR(length=60),\n",
    "                        \"period\":sqlalchemy.types.NVARCHAR(length=60),\n",
    "                        \"kode_wilayah\":sqlalchemy.types.NVARCHAR(length=60)})"
   ]
  }
 ],
 "metadata": {
  "kernelspec": {
   "display_name": "Python 3",
   "language": "python",
   "name": "python3"
  },
  "language_info": {
   "codemirror_mode": {
    "name": "ipython",
    "version": 3
   },
   "file_extension": ".py",
   "mimetype": "text/x-python",
   "name": "python",
   "nbconvert_exporter": "python",
   "pygments_lexer": "ipython3",
   "version": "3.11.6"
  }
 },
 "nbformat": 4,
 "nbformat_minor": 2
}
